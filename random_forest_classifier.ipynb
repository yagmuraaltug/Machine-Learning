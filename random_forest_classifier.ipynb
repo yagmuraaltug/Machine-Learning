{
 "cells": [
  {
   "cell_type": "code",
   "execution_count": 15,
   "metadata": {},
   "outputs": [],
   "source": [
    "import numpy as np\n",
    "import pandas as pd\n",
    "import matplotlib.pyplot as plt\n",
    "import seaborn as sns\n",
    "from sklearn.model_selection import train_test_split\n",
    "from sklearn.ensemble import RandomForestClassifier\n",
    "import warnings\n",
    "from sklearn.metrics import confusion_matrix\n",
    "warnings.filterwarnings('ignore')"
   ]
  },
  {
   "cell_type": "code",
   "execution_count": 16,
   "metadata": {},
   "outputs": [],
   "source": [
    "df = pd.read_csv('biomechanical_properties_of_patients.csv')\n",
    "df['class'] = [1 if each == 'Abnormal' else 0 for each in df['class']]\n",
    "y = df['class'].values\n",
    "x_data = df.drop(['class'], axis=1)\n",
    "x = (x_data - np.min(x_data)) / (np.max(x_data) - np.min(x_data)).values #This method rescales the range of the data to [0,1]\n",
    "x_train, x_test, y_train, y_test = train_test_split(x,y,test_size=0.15, random_state=42) #%15 to test"
   ]
  },
  {
   "cell_type": "code",
   "execution_count": 17,
   "metadata": {},
   "outputs": [
    {
     "name": "stdout",
     "output_type": "stream",
     "text": [
      "0.851063829787234\n"
     ]
    }
   ],
   "source": [
    "rf = RandomForestClassifier(n_estimators=100,random_state=1) #The number of trees in the forest.\n",
    "rf.fit(x_train,y_train) \n",
    "print(rf.score(x_test,y_test))"
   ]
  },
  {
   "cell_type": "code",
   "execution_count": 18,
   "metadata": {},
   "outputs": [
    {
     "name": "stdout",
     "output_type": "stream",
     "text": [
      "[[10  2]\n",
      " [ 5 30]]\n"
     ]
    }
   ],
   "source": [
    "#confusion matrix\n",
    "\n",
    "y_pred = rf.predict(x_test)\n",
    "conf_matrix = confusion_matrix(y_test, y_pred) # y_test : Ground truth (correct) target values. y_pred=Estimated targets as returned by a classifier.\n",
    "print(conf_matrix)\n",
    "\n"
   ]
  },
  {
   "cell_type": "code",
   "execution_count": 21,
   "metadata": {},
   "outputs": [
    {
     "data": {
      "image/png": "[encoded data removed]",
      "text/plain": [
       "<Figure size 500x500 with 2 Axes>"
      ]
     },
     "metadata": {},
     "output_type": "display_data"
    }
   ],
   "source": [
    "f, ax = plt.subplots(figsize=(5,5))\n",
    "sns.heatmap(conf_matrix, annot=True, linewidths=0.5, linecolor='white', fmt='.0f', ax=ax)\n",
    "#annot : If True, write the data value in each cell.\n",
    "#fmt   : String formatting code to use when adding annotations.\n",
    "plt.xlabel('y_pred')\n",
    "plt.ylabel('y_true')\n",
    "plt.show()"
   ]
  }
 ],
 "metadata": {
  "kernelspec": {
   "display_name": "data",
   "language": "python",
   "name": "python3"
  },
  "language_info": {
   "codemirror_mode": {
    "name": "ipython",
    "version": 3
   },
   "file_extension": ".py",
   "mimetype": "text/x-python",
   "name": "python",
   "nbconvert_exporter": "python",
   "pygments_lexer": "ipython3",
   "version": "3.9.13"
  },
  "orig_nbformat": 4,
  "vscode": {
   "interpreter": {
    "hash": "a6e79006c915fed1c2fb53e47cedd18d988034d42751367deb33418988518fa1"
   }
  }
 },
 "nbformat": 4,
 "nbformat_minor": 2
}
